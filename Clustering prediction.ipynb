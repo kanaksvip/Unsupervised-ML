{
  "nbformat": 4,
  "nbformat_minor": 0,
  "metadata": {
    "colab": {
      "name": "TASK2.ipynb",
      "provenance": [],
      "authorship_tag": "ABX9TyOTVjT6Ftr7tIx+04t+HasD",
      "include_colab_link": true
    },
    "kernelspec": {
      "name": "python3",
      "display_name": "Python 3"
    },
    "language_info": {
      "name": "python"
    }
  },
  "cells": [
    {
      "cell_type": "markdown",
      "metadata": {
        "id": "view-in-github",
        "colab_type": "text"
      },
      "source": [
        "<a href=\"https://colab.research.google.com/github/kanaksvip/Unsupervised-ML/blob/main/Clustering%20prediction.ipynb\" target=\"_parent\"><img src=\"https://colab.research.google.com/assets/colab-badge.svg\" alt=\"Open In Colab\"/></a>"
      ]
    },
    {
      "cell_type": "markdown",
      "metadata": {
        "id": "pb1jTq4v5A2b"
      },
      "source": [
        "#**KANAKSVI PACHOLI**\n",
        "\n",
        "**THE SPARKS FOUNDATION**\n",
        "\n",
        "**TASK 2- PREDICTION USING UNSUPERVISED ML**\n"
      ]
    },
    {
      "cell_type": "markdown",
      "metadata": {
        "id": "LmH4hI605a7z"
      },
      "source": [
        "#**Importing the libraries**"
      ]
    },
    {
      "cell_type": "code",
      "metadata": {
        "id": "cc3vIs704JUh"
      },
      "source": [
        "import numpy as np\n",
        "import matplotlib.pyplot as plt\n",
        "import pandas as pd"
      ],
      "execution_count": 109,
      "outputs": []
    },
    {
      "cell_type": "markdown",
      "metadata": {
        "id": "a4r5y_115skU"
      },
      "source": [
        "#**Loading the dataset**"
      ]
    },
    {
      "cell_type": "code",
      "metadata": {
        "colab": {
          "base_uri": "https://localhost:8080/",
          "height": 252
        },
        "id": "eDQktchV5raR",
        "outputId": "942782e9-e9dd-4667-dc3e-f2ee540e7960"
      },
      "source": [
        "data_load = pd.read_excel(\"Iris_Dataset.xlsx\")                                     \n",
        "print(\"Successfully imported data\" ) \n",
        "data_load.head(6)"
      ],
      "execution_count": 110,
      "outputs": [
        {
          "output_type": "stream",
          "text": [
            "Successfully imported data\n"
          ],
          "name": "stdout"
        },
        {
          "output_type": "execute_result",
          "data": {
            "text/html": [
              "<div>\n",
              "<style scoped>\n",
              "    .dataframe tbody tr th:only-of-type {\n",
              "        vertical-align: middle;\n",
              "    }\n",
              "\n",
              "    .dataframe tbody tr th {\n",
              "        vertical-align: top;\n",
              "    }\n",
              "\n",
              "    .dataframe thead th {\n",
              "        text-align: right;\n",
              "    }\n",
              "</style>\n",
              "<table border=\"1\" class=\"dataframe\">\n",
              "  <thead>\n",
              "    <tr style=\"text-align: right;\">\n",
              "      <th></th>\n",
              "      <th>Sepal Length (Cm)</th>\n",
              "      <th>Sepal Width (Cm)</th>\n",
              "      <th>Petal Length(Cm)</th>\n",
              "      <th>Petal Width (Cm)</th>\n",
              "      <th>Species</th>\n",
              "    </tr>\n",
              "  </thead>\n",
              "  <tbody>\n",
              "    <tr>\n",
              "      <th>0</th>\n",
              "      <td>5.1</td>\n",
              "      <td>3.5</td>\n",
              "      <td>1.4</td>\n",
              "      <td>0.2</td>\n",
              "      <td>Iris-setosa</td>\n",
              "    </tr>\n",
              "    <tr>\n",
              "      <th>1</th>\n",
              "      <td>4.9</td>\n",
              "      <td>3.0</td>\n",
              "      <td>1.4</td>\n",
              "      <td>0.2</td>\n",
              "      <td>Iris-setosa</td>\n",
              "    </tr>\n",
              "    <tr>\n",
              "      <th>2</th>\n",
              "      <td>4.7</td>\n",
              "      <td>3.2</td>\n",
              "      <td>1.3</td>\n",
              "      <td>0.2</td>\n",
              "      <td>Iris-setosa</td>\n",
              "    </tr>\n",
              "    <tr>\n",
              "      <th>3</th>\n",
              "      <td>4.6</td>\n",
              "      <td>3.1</td>\n",
              "      <td>1.5</td>\n",
              "      <td>0.2</td>\n",
              "      <td>Iris-setosa</td>\n",
              "    </tr>\n",
              "    <tr>\n",
              "      <th>4</th>\n",
              "      <td>5.0</td>\n",
              "      <td>3.6</td>\n",
              "      <td>1.4</td>\n",
              "      <td>0.2</td>\n",
              "      <td>Iris-setosa</td>\n",
              "    </tr>\n",
              "    <tr>\n",
              "      <th>5</th>\n",
              "      <td>5.4</td>\n",
              "      <td>3.9</td>\n",
              "      <td>1.7</td>\n",
              "      <td>0.4</td>\n",
              "      <td>Iris-setosa</td>\n",
              "    </tr>\n",
              "  </tbody>\n",
              "</table>\n",
              "</div>"
            ],
            "text/plain": [
              "   Sepal Length (Cm)  Sepal Width (Cm)  ...  Petal Width (Cm)      Species\n",
              "0                5.1               3.5  ...               0.2  Iris-setosa\n",
              "1                4.9               3.0  ...               0.2  Iris-setosa\n",
              "2                4.7               3.2  ...               0.2  Iris-setosa\n",
              "3                4.6               3.1  ...               0.2  Iris-setosa\n",
              "4                5.0               3.6  ...               0.2  Iris-setosa\n",
              "5                5.4               3.9  ...               0.4  Iris-setosa\n",
              "\n",
              "[6 rows x 5 columns]"
            ]
          },
          "metadata": {
            "tags": []
          },
          "execution_count": 110
        }
      ]
    },
    {
      "cell_type": "markdown",
      "metadata": {
        "id": "AxXVbI1U7NWB"
      },
      "source": [
        "#**Determining optimum number of clusters**"
      ]
    },
    {
      "cell_type": "code",
      "metadata": {
        "colab": {
          "base_uri": "https://localhost:8080/",
          "height": 458
        },
        "id": "YgYi44Mz7b_K",
        "outputId": "d7a67abd-4d12-4797-8879-6d2687c72c37"
      },
      "source": [
        "x = data_load.iloc[:, [0, 1, 2, 3]].values\n",
        "\n",
        "from sklearn.cluster import KMeans\n",
        "wcss = []\n",
        "\n",
        "for i in range(1, 11):\n",
        "    kmeans = KMeans(n_clusters = i, init = 'k-means++', \n",
        "                    max_iter = 300, n_init = 10, random_state = 0)\n",
        "    kmeans.fit(x)\n",
        "    wcss.append(kmeans.inertia_)\n",
        "\n",
        "plt.figure(figsize=[7,7])    \n",
        "plt.plot(range(1, 11), wcss)\n",
        "plt.title('The elbow method')\n",
        "plt.xlabel('Number of clusters')\n",
        "plt.ylabel('WCSS')                                                              #Within cluster sum of squares\n",
        "plt.show()"
      ],
      "execution_count": 111,
      "outputs": [
        {
          "output_type": "display_data",
          "data": {
            "image/png": "[encoded data removed]",
            "text/plain": [
              "<Figure size 504x504 with 1 Axes>"
            ]
          },
          "metadata": {
            "tags": []
          }
        }
      ]
    },
    {
      "cell_type": "markdown",
      "metadata": {
        "id": "l3Atr0TW8fzK"
      },
      "source": [
        "#**Creating K-means classifier and plotting the clusters**\n",
        "\n",
        "In K-Means, each cluster is associated with a centroid.\n"
      ]
    },
    {
      "cell_type": "code",
      "metadata": {
        "id": "JQownbB88Y7G"
      },
      "source": [
        "kmeans = KMeans(n_clusters = 3, init = 'k-means++',\n",
        "                max_iter = 300, n_init = 10, random_state = 0)\n",
        "y_kmeans = kmeans.fit_predict(x)"
      ],
      "execution_count": 112,
      "outputs": []
    },
    {
      "cell_type": "code",
      "metadata": {
        "colab": {
          "base_uri": "https://localhost:8080/",
          "height": 430
        },
        "id": "PUxzAj_n9CGl",
        "outputId": "2c50462b-b40b-4511-fdc6-127f0135d536"
      },
      "source": [
        "plt.figure(figsize=[10,7])\n",
        "plt.scatter(x[y_kmeans == 0, 0], x[y_kmeans == 0, 1], \n",
        "            s = 100, c = 'purple', label = 'Iris-setosa')\n",
        "plt.scatter(x[y_kmeans == 1, 0], x[y_kmeans == 1, 1], \n",
        "            s = 100, c = 'orange', label = 'Iris-versicolour')\n",
        "plt.scatter(x[y_kmeans == 2, 0], x[y_kmeans == 2, 1], \n",
        "            s = 100, c = 'green', label = 'Iris-virginica')\n",
        "\n",
        "#Plotting the centroids of the clusters\n",
        "plt.scatter(kmeans.cluster_centers_[:, 0], kmeans.cluster_centers_[:,1], \n",
        "            s = 100, c = 'red', label = 'Centroids')\n",
        "\n",
        "plt.legend()\n",
        "plt.show()"
      ],
      "execution_count": 113,
      "outputs": [
        {
          "output_type": "display_data",
          "data": {
            "image/png": "[encoded data removed]",
            "text/plain": [
              "<Figure size 720x504 with 1 Axes>"
            ]
          },
          "metadata": {
            "tags": []
          }
        }
      ]
    },
    {
      "cell_type": "markdown",
      "metadata": {
        "id": "Fej99p4mLYmV"
      },
      "source": [
        "#**Labelling the predictions and adding to dataset**"
      ]
    },
    {
      "cell_type": "code",
      "metadata": {
        "colab": {
          "base_uri": "https://localhost:8080/"
        },
        "id": "QUWvutwF9Spz",
        "outputId": "9e5fab17-8c0e-46e0-a1c4-ecd7d0ece35c"
      },
      "source": [
        "y_kmeans = np.where(y_kmeans==0, 'Iris-setosa', y_kmeans)                       #considering 0 Corresponds to 'Iris-setosa'\n",
        "y_kmeans = np.where(y_kmeans=='1', 'Iris-versicolour', y_kmeans)                #1 to 'Iris-versicolour'\n",
        "y_kmeans = np.where(y_kmeans=='2', 'Iris-virginica', y_kmeans)                  #2 to 'Iris-virginica'\n",
        "\n",
        "data_with_clusters = data_load.copy()\n",
        "data_with_clusters[\"Cluster\"] = y_kmeans\n",
        "print(data_with_clusters.head(6))"
      ],
      "execution_count": 114,
      "outputs": [
        {
          "output_type": "stream",
          "text": [
            "   Sepal Length (Cm)  Sepal Width (Cm)  ...      Species           Cluster\n",
            "0                5.1               3.5  ...  Iris-setosa  Iris-versicolour\n",
            "1                4.9               3.0  ...  Iris-setosa  Iris-versicolour\n",
            "2                4.7               3.2  ...  Iris-setosa  Iris-versicolour\n",
            "3                4.6               3.1  ...  Iris-setosa  Iris-versicolour\n",
            "4                5.0               3.6  ...  Iris-setosa  Iris-versicolour\n",
            "5                5.4               3.9  ...  Iris-setosa  Iris-versicolour\n",
            "\n",
            "[6 rows x 6 columns]\n"
          ],
          "name": "stdout"
        }
      ]
    },
    {
      "cell_type": "markdown",
      "metadata": {
        "id": "dvjE-w50L4zW"
      },
      "source": [
        "#**Data Visualisation**"
      ]
    },
    {
      "cell_type": "code",
      "metadata": {
        "colab": {
          "base_uri": "https://localhost:8080/",
          "height": 428
        },
        "id": "9tBhjr3B_-nI",
        "outputId": "69b62262-d9ed-41ba-d299-8bd74c05054a"
      },
      "source": [
        "import seaborn as sns\n",
        "plt.figure(figsize=[7,7])\n",
        "sns.set_style('darkgrid')\n",
        "sns.barplot(x = data_with_clusters[\"Cluster\"] .unique(),\n",
        "            y = data_with_clusters[\"Cluster\"] .value_counts(),\n",
        "            palette=sns.color_palette([\"yellow\", \"green\", \"purple\"]));"
      ],
      "execution_count": 115,
      "outputs": [
        {
          "output_type": "display_data",
          "data": {
            "image/png": "[encoded data removed]",
            "text/plain": [
              "<Figure size 504x504 with 1 Axes>"
            ]
          },
          "metadata": {
            "tags": []
          }
        }
      ]
    },
    {
      "cell_type": "markdown",
      "metadata": {
        "id": "zCcgM3uQMcqS"
      },
      "source": [
        "#**Conclusion**\n",
        "**Predicted number of clusters in-**\n",
        "\n",
        "Iris-versicolour is 62     \n",
        "Iris-virginica is 50     \n",
        "Iris-setosa is 38\n",
        "\n"
      ]
    }
  ]
}